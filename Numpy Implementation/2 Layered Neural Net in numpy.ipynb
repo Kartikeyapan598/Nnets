{
 "cells": [
  {
   "cell_type": "code",
   "execution_count": 2,
   "metadata": {},
   "outputs": [],
   "source": [
    "import numpy as np\n",
    "import scipy.special"
   ]
  },
  {
   "cell_type": "code",
   "execution_count": 21,
   "metadata": {},
   "outputs": [],
   "source": [
    "# Defined a class Neural Net to make a simple neural network of having 1 hidden layer and an output layer\n",
    "\n",
    "class Neural_Net:\n",
    "    def __init__(self,input_node,hidden_node,output_node):\n",
    "        \n",
    "        self.inp=input_node\n",
    "        self.hdd=hidden_node\n",
    "        self.odo=output_node\n",
    "        \n",
    "        self.learning_rate=0.2\n",
    "        \n",
    "        self.wt_inp_hdd=(np.random.rand(self.hdd,self.inp))*((self.hdd)**(-1/2)) # implementation of Xavier \n",
    "                                                                                 #initialization of weights\n",
    "        self.wt_hdd_opo=(np.random.rand(self.odo,self.hdd))*((self.odo)**(-1/2))\n",
    "        self.wt_rcrnt_hdo_hdi=(np.random.rand(self.hdd,self.hdd))\n",
    "        self.act = lambda x : scipy.special.expit(x)\n",
    "        pass\n",
    "    def train(self,inp,op):\n",
    "        inpmat=np.array(inp,ndmin=2).T\n",
    "        opt=np.array(op,ndmin=2).T\n",
    "        hdi =np.dot(self.wt_inp_hdd,inpmat)\n",
    "        hdo =self.act(hdi)\n",
    "        opi=np.dot(self.wt_hdd_opo,hdo)\n",
    "        opo=self.act(opi)\n",
    "        error=(opt-opo)\n",
    "        hidden_error=np.dot(self.wt_hdd_opo.T,error)\n",
    "        self.wt_hdd_opo= self.wt_hdd_opo - self.learning_rate*(np.dot((error*opo*(1.0-opo)),np.transpose(hdo)))\n",
    "        self.wt_inp_hdd= self.wt_inp_hdd - self.learning_rate*(np.dot((hidden_error*hdo*(1.0-hdo)),np.transpose(inpmat)))\n",
    "        return 'wt_inp_hdd =',self.wt_inp_hdd ,'&','self.wt_hdd_opo',self.wt_hdd_opo"
   ]
  },
  {
   "cell_type": "code",
   "execution_count": 22,
   "metadata": {},
   "outputs": [],
   "source": [
    "n=Neural_Net(5,7,2)\n",
    "n.train((1,2,3,4,5),(0.3989,0.8996)) # Roughly testing to check functionaltiy"
   ]
  }
 ],
 "metadata": {
  "kernelspec": {
   "display_name": "Python 3",
   "language": "python",
   "name": "python3"
  },
  "language_info": {
   "codemirror_mode": {
    "name": "ipython",
    "version": 3
   },
   "file_extension": ".py",
   "mimetype": "text/x-python",
   "name": "python",
   "nbconvert_exporter": "python",
   "pygments_lexer": "ipython3",
   "version": "3.8.6rc1"
  }
 },
 "nbformat": 4,
 "nbformat_minor": 2
}
